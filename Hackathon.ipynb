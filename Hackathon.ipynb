{
 "cells": [
  {
   "cell_type": "code",
   "execution_count": 1,
   "metadata": {},
   "outputs": [
    {
     "name": "stderr",
     "output_type": "stream",
     "text": [
      "Using TensorFlow backend.\n"
     ]
    }
   ],
   "source": [
    "import imageai\n",
    "import tensorflow\n",
    "import base64\n",
    "import cv2\n",
    "import simplejson as json\n",
    "import keras\n",
    "import glob\n",
    "from imageai.Detection import ObjectDetection\n",
    "import time\n",
    "import os\n",
    "from ftplib import FTP \n",
    "import fileinput\n",
    "start = time.time()"
   ]
  },
  {
   "cell_type": "code",
   "execution_count": 2,
   "metadata": {},
   "outputs": [],
   "source": [
    "detector = ObjectDetection()"
   ]
  },
  {
   "cell_type": "code",
   "execution_count": 3,
   "metadata": {},
   "outputs": [],
   "source": [
    "model_path = \"./model/rd_model.h5\""
   ]
  },
  {
   "cell_type": "code",
   "execution_count": 4,
   "metadata": {},
   "outputs": [],
   "source": [
    "detector.setModelTypeAsTinyYOLOv3()"
   ]
  },
  {
   "cell_type": "code",
   "execution_count": 5,
   "metadata": {},
   "outputs": [],
   "source": [
    "detector.setModelPath(model_path)"
   ]
  },
  {
   "cell_type": "code",
   "execution_count": 6,
   "metadata": {
    "scrolled": true
   },
   "outputs": [
    {
     "name": "stdout",
     "output_type": "stream",
     "text": [
      "WARNING:tensorflow:From C:\\Users\\Amerlan\\Anaconda3\\lib\\site-packages\\keras\\backend\\tensorflow_backend.py:4070: The name tf.nn.max_pool is deprecated. Please use tf.nn.max_pool2d instead.\n",
      "\n",
      "WARNING:tensorflow:From C:\\Users\\Amerlan\\Anaconda3\\lib\\site-packages\\tensorflow\\python\\ops\\array_ops.py:1354: add_dispatch_support.<locals>.wrapper (from tensorflow.python.ops.array_ops) is deprecated and will be removed in a future version.\n",
      "Instructions for updating:\n",
      "Use tf.where in 2.0, which has the same broadcast rule as np.where\n"
     ]
    }
   ],
   "source": [
    "detector.loadModel()"
   ]
  },
  {
   "cell_type": "code",
   "execution_count": 7,
   "metadata": {},
   "outputs": [],
   "source": [
    "for file_video in glob.glob(\"./video/*.mp4\"):\n",
    "    video_index = 0\n",
    "    vidcap = cv2.VideoCapture(str(file_video))\n",
    "    def getFrame(sec):\n",
    "        vidcap.set(cv2.CAP_PROP_POS_MSEC,sec*1000)\n",
    "        hasFrames,image = vidcap.read()\n",
    "        if hasFrames:\n",
    "            cv2.imwrite(\"./pre_image/image_\"+str(video_index)+\"_\"+str(count)+\"_.jpg\", image) # save frame as JPG file\n",
    "        return hasFrames\n",
    "    sec = 0\n",
    "    frameRate = 3 #//it will capture image in each 3 second\n",
    "    count = 1\n",
    "    success = getFrame(sec)\n",
    "    while success:\n",
    "        count += 1\n",
    "        sec += frameRate\n",
    "        sec = round(sec, 2)\n",
    "        success = getFrame(sec)"
   ]
  },
  {
   "cell_type": "code",
   "execution_count": 8,
   "metadata": {
    "scrolled": false
   },
   "outputs": [],
   "source": [
    "ftp = FTP()\n",
    "ftp.connect(\"10.10.113.43\", 21) #21 default port\n",
    "ftp.login()  #впишите логин если надо\n",
    "ftp.cwd(\"OpenCode/ABC\")   #задает папку парс на локальном сервере\n",
    "\n",
    "image_number = 0\n",
    "for images in glob.glob(\"./pre_image/*.jpg\"):\n",
    "    count = 0\n",
    "    output_path = \"./output/processed_image_\" +str(images.split(\"_\")[2])+ \"_\" + str(image_number)+\".jpg\"\n",
    "    detection = detector.detectObjectsFromImage(input_image=images, output_image_path=output_path)\n",
    "    for eachItem in detection:\n",
    "        count +=1\n",
    "    data = {}\n",
    "    with open(glob.glob(\"./output/*.jpg\")[image_number], \"rb\") as imageFile:\n",
    "        pic = base64.b64encode(imageFile.read())\n",
    "        data = {'total': count, 'picture' : pic}\n",
    "    filename = 'data_' + str(image_number) + '.json'\n",
    "    with open(filename, 'w') as file:\n",
    "        json.dump(data, file)\n",
    "    image_number+=1\n",
    "for j_son in glob.glob(\"./*.json\"):\n",
    "    fp = open(j_son, 'rb')\n",
    "    ftp.storbinary('STOR %s' % os.path.basename(j_son), fp, 1024)\n",
    "    fp.close()"
   ]
  },
  {
   "cell_type": "code",
   "execution_count": 9,
   "metadata": {},
   "outputs": [
    {
     "name": "stdout",
     "output_type": "stream",
     "text": [
      "OUT TIME:  41.07324528694153\n"
     ]
    }
   ],
   "source": [
    "end = time.time()\n",
    "print('OUT TIME: ', end - start)"
   ]
  }
 ],
 "metadata": {
  "kernelspec": {
   "display_name": "Python 3",
   "language": "python",
   "name": "python3"
  },
  "language_info": {
   "codemirror_mode": {
    "name": "ipython",
    "version": 3
   },
   "file_extension": ".py",
   "mimetype": "text/x-python",
   "name": "python",
   "nbconvert_exporter": "python",
   "pygments_lexer": "ipython3",
   "version": "3.7.3"
  }
 },
 "nbformat": 4,
 "nbformat_minor": 2
}
